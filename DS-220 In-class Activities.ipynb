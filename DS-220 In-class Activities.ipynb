{
 "cells": [
  {
   "cell_type": "code",
   "execution_count": null,
   "metadata": {},
   "outputs": [
    {
     "name": "stdout",
     "output_type": "stream",
     "text": [
      "['A man', ' a plan', ' a canal', ' Panama']\n",
      "4\n"
     ]
    }
   ],
   "source": [
    "\"\"\"\n",
    "1. Assign a to the result of splitting the string “A man, a plan,\n",
    "a canal, Panama” on comma-space. How many elements\n",
    "does the resulting list have?\n",
    "\"\"\"\n",
    "\n",
    "string = \"A man, a plan, a canal, Panama\"\n",
    "a = string.split(',')\n",
    "print(a)\n",
    "print(len(a))\n",
    "\n",
    "# There is 4 elemnt in resulting list"
   ]
  },
  {
   "cell_type": "code",
   "execution_count": 23,
   "metadata": {},
   "outputs": [
    {
     "name": "stdout",
     "output_type": "stream",
     "text": [
      "['A man', ' a plan', ' a canal', ' Panama']\n",
      "[' Panama', ' a canal', ' a plan', 'A man']\n"
     ]
    }
   ],
   "source": [
    "\"\"\"\n",
    "2. Can you guess the method to reverse a list in place in Python? Test\n",
    "your method on the list - a - generated in 1. above.\n",
    "\"\"\"\n",
    "\n",
    "print(a)\n",
    "reversed_a = a[::-1]\n",
    "print(reversed_a)\n",
    "\n",
    "# Method include using [::-1] or use reverse() directly."
   ]
  },
  {
   "cell_type": "code",
   "execution_count": 26,
   "metadata": {},
   "outputs": [
    {
     "name": "stdout",
     "output_type": "stream",
     "text": [
      "[0, 1, 2, 3, 4]\n"
     ]
    }
   ],
   "source": [
    "\"\"\"\n",
    "3. We’ve seen that list(str) returns a list of the characters in a\n",
    "string. How can we make a list consisting of the numbers in the\n",
    "range 0–4?\n",
    "\"\"\"\n",
    "\n",
    "number_list = list(range(0, 5))\n",
    "print(number_list)\n",
    "\n",
    "# list(range(0, 5)) generate a list of numbers in the range from 0 to 4. (stop at 5, but not include 5.)"
   ]
  },
  {
   "cell_type": "code",
   "execution_count": null,
   "metadata": {},
   "outputs": [
    {
     "name": "stdout",
     "output_type": "stream",
     "text": [
      "[17, 18, 19, 20, 21, 22, 23, 24, 25, 26, 27, 28, 29, 30, 31, 32, 33, 34, 35, 36, 37, 38, 39, 40, 41]\n"
     ]
    }
   ],
   "source": [
    "\"\"\"\n",
    "4. Show that you can create a list of numbers in the range 17–41\n",
    "using list() with range(17, 42).\n",
    "\"\"\"\n",
    "\n",
    "number_list = list(range(17, 42))\n",
    "print(number_list)"
   ]
  },
  {
   "cell_type": "code",
   "execution_count": null,
   "metadata": {},
   "outputs": [
    {
     "name": "stdout",
     "output_type": "stream",
     "text": [
      "[0, 1, 2, 3, 4, 5, 6, 7, 8, 9, 10, 11, 12, 13, 14, 15, 16, 17, 18, 19]\n",
      "[19, 18, 17, 16, 15, 14, 13, 12, 11, 10, 9, 8, 7, 6, 5, 4, 3, 2, 1, 0]\n"
     ]
    }
   ],
   "source": [
    "\"\"\"\n",
    "5. Given list: numbers = list(range(20)). What does\n",
    "numbers[:: -1] produce?\n",
    "\"\"\"\n",
    "\n",
    "numbers = list(range(20))\n",
    "print(numbers)\n",
    "print(numbers[::-1])\n",
    "\n",
    "# numbers[::-1] reverse the list of numbers"
   ]
  },
  {
   "cell_type": "code",
   "execution_count": null,
   "metadata": {},
   "outputs": [
    {
     "name": "stdout",
     "output_type": "stream",
     "text": [
      "[0, 1, 2, 3, 4, 5, 6, 7, 8, 9]\n",
      "[2, 3, 4, 5, 6, 7]\n"
     ]
    }
   ],
   "source": [
    "\"\"\"\n",
    "6. Define a list with the numbers 0 through 9. Use slicing and len() to\n",
    "select the third element through the third-to-last. Try to implement\n",
    "the same task using a negative index.\n",
    "\"\"\"\n",
    "\n",
    "numbers = list(range(0, 10))\n",
    "print(numbers)\n",
    "sliced_numbers = numbers[2:-2]\n",
    "print(sliced_numbers)\n",
    "\n",
    "# the sliced numbers start at third element and end at third-to-last element"
   ]
  },
  {
   "cell_type": "code",
   "execution_count": null,
   "metadata": {},
   "outputs": [
    {
     "name": "stdout",
     "output_type": "stream",
     "text": [
      "bat\n"
     ]
    }
   ],
   "source": [
    "\"\"\"\n",
    "7. Show that strings also support slicing by selecting just \"bat\" from\n",
    "the string \"ant bat cat\". (You might have to experiment a\n",
    "little to get the indices just right.)\n",
    "\"\"\"\n",
    "\n",
    "string = \"ant bat cat\"\n",
    "bat = string[4:7]\n",
    "print(bat)\n",
    "\n",
    "# string[4:7] start from four element (b) to the seventh element ( ), but not include the space."
   ]
  },
  {
   "cell_type": "code",
   "execution_count": null,
   "metadata": {},
   "outputs": [
    {
     "name": "stdout",
     "output_type": "stream",
     "text": [
      "[9, 8, 5, 4, 3, 2, 1, 0]\n",
      "[9, 8, 5, 4, 3, 2, 1, 0]\n"
     ]
    }
   ],
   "source": [
    "\"\"\"\n",
    "8. To sort a list in reverse order, it’s possible to sort and then reverse,\n",
    "but the combined operation is so useful that both sort() and\n",
    "sorted() support a keyword argument that does it\n",
    "automatically. Confirm that a.sort(reverse=True) and\n",
    "sorted(a, reverse=True) both have the effect of sorting\n",
    "and reversing at the same time.\n",
    "\"\"\"\n",
    "\n",
    "a = [2, 5, 1, 3, 4, 9, 8, 0]\n",
    "b = [2, 5, 1, 3, 4, 9, 8, 0]\n",
    "\n",
    "a.sort(reverse=True)\n",
    "print(a)\n",
    "reversed_b = sorted(b, reverse = True)\n",
    "print(reversed_b)\n",
    "\n",
    "# Both method comfirm to have the effect of sorting and reversing at the same time.\n"
   ]
  },
  {
   "cell_type": "code",
   "execution_count": null,
   "metadata": {},
   "outputs": [
    {
     "name": "stdout",
     "output_type": "stream",
     "text": [
      "['zero', 1, 2, 3, 4, 5]\n"
     ]
    }
   ],
   "source": [
    "\"\"\"\n",
    "9. Using the (list documentation located at the web address – URL -\n",
    "(https://docs.python.org/3/tutorial/datastructures.html)), figure out\n",
    "how to insert an element at the beginning of a list. Create an\n",
    "example piece of code to demonstrate this capability.\n",
    "\"\"\"\n",
    "\n",
    "lst = [1, 2, 3, 4, 5]\n",
    "lst.insert(0, 'zero')\n",
    "print(lst)\n",
    "\n",
    "# 'zero' successfully preppend in the beginning of the list."
   ]
  },
  {
   "cell_type": "code",
   "execution_count": null,
   "metadata": {},
   "outputs": [
    {
     "name": "stdout",
     "output_type": "stream",
     "text": [
      "['a', 'b', 'c', 1, 2, 3]\n",
      "[1, 2, 3]\n"
     ]
    }
   ],
   "source": [
    "\"\"\"\n",
    "10. Combine the two lists shown in code snippet below into a single\n",
    "list using the extend() method. Does extend() mutate a1? Does it\n",
    "mutate a2?\n",
    ">>> a1 = [\"a\", \"b\", \"c\"]\n",
    ">>> a2 = [1, 2, 3]\n",
    ">>> <Replace with you code>\n",
    ">>> a1\n",
    "['a', 'b', 'c', 1, 2, 3]\n",
    "\"\"\"\n",
    "\n",
    "a1 = [\"a\", \"b\", \"c\"]\n",
    "a2 = [1, 2, 3]\n",
    "\n",
    "a1.extend(a2)\n",
    "print(a1)\n",
    "print(a2)\n",
    "\n",
    "# a1.extend() mutated a1, a2 remain the same."
   ]
  },
  {
   "cell_type": "code",
   "execution_count": 49,
   "metadata": {},
   "outputs": [
    {
     "name": "stdout",
     "output_type": "stream",
     "text": [
      "[0, 1, 2, 3, 4]\n",
      "[4, 3, 2, 1, 0]\n"
     ]
    }
   ],
   "source": [
    "\"\"\"\n",
    "11. Use reversed() to print out a list’s elements in reverse order.\n",
    "\"\"\"\n",
    "\n",
    "lst = list(range(5))\n",
    "print(lst)\n",
    "lst.reverse()\n",
    "print(lst)"
   ]
  },
  {
   "cell_type": "code",
   "execution_count": 50,
   "metadata": {},
   "outputs": [
    {
     "name": "stdout",
     "output_type": "stream",
     "text": [
      "Password matches the confirmation.\n"
     ]
    }
   ],
   "source": [
    "\"\"\"\n",
    "12. Define a dictionary for a user with three attributes (keys):\n",
    "\"username\", \"password\", and \"password_confirmation\". How\n",
    "would you test if the password matches the confirmation?\n",
    "\"\"\"\n",
    "\n",
    "user1 = {'username': 'tester_1', 'password': '321PSU@', 'password_confirmation': '321PSU@'}\n",
    "\n",
    "if user1['password'] == user1['password_confirmation']:\n",
    "    print('Password matches the confirmation.')\n",
    "else:\n",
    "    print('Password does not matches the confirmation.')"
   ]
  },
  {
   "cell_type": "code",
   "execution_count": null,
   "metadata": {},
   "outputs": [
    {
     "name": "stdout",
     "output_type": "stream",
     "text": [
      "Word       Count\n",
      "The        2\n",
      "cat        1\n",
      "chased     1\n",
      "the        2\n",
      "mouse      2\n",
      "through    1\n",
      "garden     1\n",
      "quickly    1\n",
      "hid        1\n",
      "under      1\n",
      "a          1\n",
      "pile       1\n",
      "of         1\n",
      "leaves     1\n"
     ]
    }
   ],
   "source": [
    "\"\"\"\n",
    "13. ** Unique words & their count: given a fairly long piece of text\n",
    "write code to extract all the unique words and a count of how many\n",
    "times each word appears. Optional for Bonus Marks!\n",
    "\"\"\"\n",
    "\n",
    "long_text = \"The cat chased the mouse through the garden. The mouse quickly hid under a pile of leaves.\"\n",
    "\n",
    "def find_unique(text):\n",
    "    count = {}\n",
    "    for w in text.split():\n",
    "        w = w.strip('.')\n",
    "        if w not in count:\n",
    "            count[w] = 1\n",
    "        else:\n",
    "            count[w] += 1\n",
    "\n",
    "    return count\n",
    "\n",
    "output = find_unique(long_text)\n",
    "\n",
    "print(f'Word       Count')\n",
    "for w, n in output.items():\n",
    "    print(f'{w:<11}{n}')\n",
    "    "
   ]
  }
 ],
 "metadata": {
  "kernelspec": {
   "display_name": "base",
   "language": "python",
   "name": "python3"
  },
  "language_info": {
   "codemirror_mode": {
    "name": "ipython",
    "version": 3
   },
   "file_extension": ".py",
   "mimetype": "text/x-python",
   "name": "python",
   "nbconvert_exporter": "python",
   "pygments_lexer": "ipython3",
   "version": "3.11.5"
  }
 },
 "nbformat": 4,
 "nbformat_minor": 2
}
